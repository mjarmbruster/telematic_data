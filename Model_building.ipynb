{
 "cells": [
  {
   "cell_type": "code",
   "execution_count": 1,
   "metadata": {},
   "outputs": [],
   "source": [
    "import pandas as pd\n",
    "import numpy as np\n",
    "from sklearn.model_selection import train_test_split\n",
    "from sklearn.model_selection import GridSearchCV\n",
    "from sklearn.feature_selection import RFECV\n",
    "from sklearn.feature_selection import VarianceThreshold\n",
    "from sklearn.linear_model import LogisticRegression\n",
    "from sklearn.ensemble import AdaBoostClassifier\n",
    "from sklearn.ensemble import RandomForestClassifier\n",
    "from sklearn.ensemble import GradientBoostingClassifier\n",
    "import matplotlib.pyplot as plt\n",
    "from sklearn.pipeline import Pipeline\n",
    "import pickle\n",
    "from functions import evaluate"
   ]
  },
  {
   "cell_type": "code",
   "execution_count": 2,
   "metadata": {},
   "outputs": [],
   "source": [
    "modelpath = 'C:\\\\Users\\\\marca\\\\OneDrive\\\\Desktop\\\\Root Assignment\\\\work_sample\\\\model_data.csv'\n",
    "trippath = 'C:\\\\Users\\\\marca\\\\OneDrive\\\\Documents\\\\My Code\\\\rootproj\\\\trip_data\\\\'"
   ]
  },
  {
   "cell_type": "code",
   "execution_count": 3,
   "metadata": {},
   "outputs": [],
   "source": [
    "import os\n",
    "import sys\n",
    "import functions\n",
    "import time\n",
    "import pandas as pd\n",
    "\n",
    "THIS_DIR = os.path.abspath('')\n",
    "\n",
    "def main(path_to_model_data: str, path_to_trip_data: str) -> None:\n",
    "    model_data = pd.read_csv(path_to_model_data)\n",
    "    filenames = []\n",
    "    stops = []\n",
    "    turns = []\n",
    "    os.chdir(path_to_trip_data)\n",
    "    for file in os.listdir(path_to_trip_data):\n",
    "        if file.endswith(\".csv\"):\n",
    "            trips = pd.read_csv(file)\n",
    "            timestamps = trips.time_seconds.tolist()\n",
    "            speeds = trips.speed_meters_per_second.tolist()\n",
    "            headings = trips.heading_degrees.tolist()\n",
    "            stop_count = functions.count_of_stops(timestamps, speeds, headings)\n",
    "            turn_count = functions.count_of_turns(timestamps, speeds, headings)\n",
    "            \n",
    "            filenames.append(file)\n",
    "            stops.append(stop_count)\n",
    "            turns.append(turn_count)\n",
    "            \n",
    "    os.chdir(THIS_DIR)\n",
    "            \n",
    "    add_features = pd.DataFrame(list(zip(filenames, stops, turns)), \n",
    "               columns =['filename','stops','turns']) \n",
    "    df = pd.merge(model_data, add_features, how='left', on='filename', \n",
    "                  validate='one_to_one')\n",
    "    \n",
    "    return df"
   ]
  },
  {
   "cell_type": "code",
   "execution_count": 4,
   "metadata": {},
   "outputs": [
    {
     "data": {
      "text/html": [
       "<div>\n",
       "<style scoped>\n",
       "    .dataframe tbody tr th:only-of-type {\n",
       "        vertical-align: middle;\n",
       "    }\n",
       "\n",
       "    .dataframe tbody tr th {\n",
       "        vertical-align: top;\n",
       "    }\n",
       "\n",
       "    .dataframe thead th {\n",
       "        text-align: right;\n",
       "    }\n",
       "</style>\n",
       "<table border=\"1\" class=\"dataframe\">\n",
       "  <thead>\n",
       "    <tr style=\"text-align: right;\">\n",
       "      <th></th>\n",
       "      <th>filename</th>\n",
       "      <th>feature1</th>\n",
       "      <th>feature2</th>\n",
       "      <th>feature3</th>\n",
       "      <th>feature4</th>\n",
       "      <th>feature5</th>\n",
       "      <th>feature6</th>\n",
       "      <th>feature7</th>\n",
       "      <th>feature8</th>\n",
       "      <th>feature9</th>\n",
       "      <th>feature10</th>\n",
       "      <th>feature11</th>\n",
       "      <th>feature12</th>\n",
       "      <th>feature13</th>\n",
       "      <th>feature14</th>\n",
       "      <th>y</th>\n",
       "      <th>stops</th>\n",
       "      <th>turns</th>\n",
       "    </tr>\n",
       "  </thead>\n",
       "  <tbody>\n",
       "    <tr>\n",
       "      <th>0</th>\n",
       "      <td>0000.csv</td>\n",
       "      <td>False</td>\n",
       "      <td>False</td>\n",
       "      <td>True</td>\n",
       "      <td>5.209096</td>\n",
       "      <td>9789.261511</td>\n",
       "      <td>30753.872048</td>\n",
       "      <td>0.001010</td>\n",
       "      <td>5</td>\n",
       "      <td>13</td>\n",
       "      <td>1</td>\n",
       "      <td>9.373984e+03</td>\n",
       "      <td>0.317920</td>\n",
       "      <td>9.379193e+03</td>\n",
       "      <td>4.974085</td>\n",
       "      <td>0</td>\n",
       "      <td>0</td>\n",
       "      <td>6</td>\n",
       "    </tr>\n",
       "    <tr>\n",
       "      <th>1</th>\n",
       "      <td>0001.csv</td>\n",
       "      <td>False</td>\n",
       "      <td>False</td>\n",
       "      <td>False</td>\n",
       "      <td>4.450941</td>\n",
       "      <td>10552.521899</td>\n",
       "      <td>33151.725274</td>\n",
       "      <td>0.001000</td>\n",
       "      <td>3</td>\n",
       "      <td>11</td>\n",
       "      <td>1</td>\n",
       "      <td>4.251619e+04</td>\n",
       "      <td>2.229321</td>\n",
       "      <td>4.252064e+04</td>\n",
       "      <td>3.151531</td>\n",
       "      <td>0</td>\n",
       "      <td>1</td>\n",
       "      <td>10</td>\n",
       "    </tr>\n",
       "    <tr>\n",
       "      <th>2</th>\n",
       "      <td>0002.csv</td>\n",
       "      <td>False</td>\n",
       "      <td>False</td>\n",
       "      <td>True</td>\n",
       "      <td>5.396552</td>\n",
       "      <td>10233.433119</td>\n",
       "      <td>32149.278307</td>\n",
       "      <td>0.001015</td>\n",
       "      <td>6</td>\n",
       "      <td>13</td>\n",
       "      <td>1</td>\n",
       "      <td>1.305321e+07</td>\n",
       "      <td>34.259512</td>\n",
       "      <td>1.305322e+07</td>\n",
       "      <td>6.236594</td>\n",
       "      <td>0</td>\n",
       "      <td>0</td>\n",
       "      <td>6</td>\n",
       "    </tr>\n",
       "    <tr>\n",
       "      <th>3</th>\n",
       "      <td>0003.csv</td>\n",
       "      <td>False</td>\n",
       "      <td>False</td>\n",
       "      <td>True</td>\n",
       "      <td>4.970163</td>\n",
       "      <td>10829.056746</td>\n",
       "      <td>34020.485118</td>\n",
       "      <td>0.000993</td>\n",
       "      <td>4</td>\n",
       "      <td>8</td>\n",
       "      <td>1</td>\n",
       "      <td>1.131908e+03</td>\n",
       "      <td>25.768714</td>\n",
       "      <td>1.136878e+03</td>\n",
       "      <td>3.968008</td>\n",
       "      <td>1</td>\n",
       "      <td>3</td>\n",
       "      <td>7</td>\n",
       "    </tr>\n",
       "    <tr>\n",
       "      <th>4</th>\n",
       "      <td>0004.csv</td>\n",
       "      <td>False</td>\n",
       "      <td>False</td>\n",
       "      <td>False</td>\n",
       "      <td>5.266868</td>\n",
       "      <td>10678.703687</td>\n",
       "      <td>33548.137053</td>\n",
       "      <td>0.001009</td>\n",
       "      <td>6</td>\n",
       "      <td>11</td>\n",
       "      <td>1</td>\n",
       "      <td>3.163256e+03</td>\n",
       "      <td>145.154357</td>\n",
       "      <td>3.168523e+03</td>\n",
       "      <td>5.999782</td>\n",
       "      <td>0</td>\n",
       "      <td>10</td>\n",
       "      <td>7</td>\n",
       "    </tr>\n",
       "  </tbody>\n",
       "</table>\n",
       "</div>"
      ],
      "text/plain": [
       "   filename  feature1  feature2  feature3  feature4      feature5  \\\n",
       "0  0000.csv     False     False      True  5.209096   9789.261511   \n",
       "1  0001.csv     False     False     False  4.450941  10552.521899   \n",
       "2  0002.csv     False     False      True  5.396552  10233.433119   \n",
       "3  0003.csv     False     False      True  4.970163  10829.056746   \n",
       "4  0004.csv     False     False     False  5.266868  10678.703687   \n",
       "\n",
       "       feature6  feature7  feature8  feature9  feature10     feature11  \\\n",
       "0  30753.872048  0.001010         5        13          1  9.373984e+03   \n",
       "1  33151.725274  0.001000         3        11          1  4.251619e+04   \n",
       "2  32149.278307  0.001015         6        13          1  1.305321e+07   \n",
       "3  34020.485118  0.000993         4         8          1  1.131908e+03   \n",
       "4  33548.137053  0.001009         6        11          1  3.163256e+03   \n",
       "\n",
       "    feature12     feature13  feature14  y  stops  turns  \n",
       "0    0.317920  9.379193e+03   4.974085  0      0      6  \n",
       "1    2.229321  4.252064e+04   3.151531  0      1     10  \n",
       "2   34.259512  1.305322e+07   6.236594  0      0      6  \n",
       "3   25.768714  1.136878e+03   3.968008  1      3      7  \n",
       "4  145.154357  3.168523e+03   5.999782  0     10      7  "
      ]
     },
     "execution_count": 4,
     "metadata": {},
     "output_type": "execute_result"
    }
   ],
   "source": [
    "df = main(modelpath,trippath)\n",
    "df.head()"
   ]
  },
  {
   "cell_type": "code",
   "execution_count": 5,
   "metadata": {},
   "outputs": [],
   "source": [
    "predictors = [x for x in df.columns if x not in ['y', 'filename']]\n",
    "#, 'feature10', 'feature2'\n",
    "X = df[predictors]\n",
    "y = df['y']"
   ]
  },
  {
   "cell_type": "code",
   "execution_count": 6,
   "metadata": {},
   "outputs": [],
   "source": [
    "train_x, test_x, train_y, test_y = train_test_split(X, y, test_size=0.10, random_state=42)"
   ]
  },
  {
   "cell_type": "markdown",
   "metadata": {},
   "source": [
    "Model Selection"
   ]
  },
  {
   "cell_type": "code",
   "execution_count": 7,
   "metadata": {},
   "outputs": [
    {
     "name": "stdout",
     "output_type": "stream",
     "text": [
      "LR avg F1 score is 0.4619739955088214\n",
      "RF avg F1 score is 0.7254319270148335\n",
      "GB avg F1 score is 0.7563481825178608\n",
      "AB avg F1 score is 0.718669502590957\n"
     ]
    }
   ],
   "source": [
    "from sklearn.model_selection import cross_validate\n",
    "\n",
    "lr = LogisticRegression(random_state=10)\n",
    "rf = RandomForestClassifier(n_estimators=100, random_state=10)\n",
    "gb = GradientBoostingClassifier(n_estimators=100, random_state=10)\n",
    "ab = AdaBoostClassifier(n_estimators=100, random_state=10)\n",
    "\n",
    "lr_results = cross_validate(lr, X, y, cv=5, scoring=('f1'))\n",
    "rf_results = cross_validate(rf, X, y, cv=5, scoring=('f1'))\n",
    "gb_results = cross_validate(gb, X, y, cv=5, scoring=('f1'))\n",
    "ab_results = cross_validate(ab, X, y, cv=5, scoring=('f1'))\n",
    "\n",
    "print(\"LR avg F1 score is {}\".format(np.mean(lr_results['test_score'])))\n",
    "print(\"RF avg F1 score is {}\".format(np.mean(rf_results['test_score'])))\n",
    "print(\"GB avg F1 score is {}\".format(np.mean(gb_results['test_score'])))\n",
    "print(\"AB avg F1 score is {}\".format(np.mean(ab_results['test_score'])))"
   ]
  },
  {
   "cell_type": "markdown",
   "metadata": {},
   "source": [
    "Train Baseline GB model"
   ]
  },
  {
   "cell_type": "code",
   "execution_count": 8,
   "metadata": {},
   "outputs": [
    {
     "name": "stdout",
     "output_type": "stream",
     "text": [
      "GB score is 0.88\n"
     ]
    },
    {
     "data": {
      "image/png": "[encoded data removed]",
      "text/plain": [
       "<Figure size 432x288 with 1 Axes>"
      ]
     },
     "metadata": {
      "needs_background": "light"
     },
     "output_type": "display_data"
    }
   ],
   "source": [
    "baseline_GB = GradientBoostingClassifier(learning_rate=0.1, n_estimators=50,max_depth=5, \n",
    "                                      min_samples_split=4, min_samples_leaf=1, subsample=0.8,\n",
    "                                      max_features='sqrt', random_state=10)\n",
    "\n",
    "baseline_GB.fit(train_x,train_y)\n",
    "\n",
    "feat_imp = pd.Series(baseline_GB.feature_importances_, predictors).sort_values(ascending=False)\n",
    "feat_imp.plot(kind='bar', title='Importance of Features')\n",
    "plt.ylabel('Feature Importance Score')\n",
    "print(\"GB score is {}\".format(baseline_GB.score(test_x, test_y)))"
   ]
  },
  {
   "cell_type": "code",
   "execution_count": 9,
   "metadata": {},
   "outputs": [
    {
     "name": "stdout",
     "output_type": "stream",
     "text": [
      "GB score is 0.91\n"
     ]
    }
   ],
   "source": [
    "# Remove zero variance features for tuning\n",
    "selector = VarianceThreshold()\n",
    "selector.fit_transform(train_x)\n",
    "\n",
    "baseline_GB = GradientBoostingClassifier(learning_rate=0.1, n_estimators=50,max_depth=5, \n",
    "                                      min_samples_split=4, min_samples_leaf=1, subsample=0.8,\n",
    "                                      max_features='sqrt', random_state=10)\n",
    "\n",
    "pipeline  = Pipeline([('feature_sele',selector),('model',baseline_GB)])\n",
    "                                   \n",
    "pipeline.fit(train_x, train_y)\n",
    "\n",
    "print(\"GB score is {}\".format(pipeline.score(test_x, test_y)))"
   ]
  },
  {
   "cell_type": "markdown",
   "metadata": {},
   "source": [
    "Tuning Hyperparameters"
   ]
  },
  {
   "cell_type": "code",
   "execution_count": 10,
   "metadata": {},
   "outputs": [
    {
     "name": "stdout",
     "output_type": "stream",
     "text": [
      "The best score is 0.8555555555555555\n",
      "The best hyper parameter setting is {'model__n_estimators': 70}\n"
     ]
    }
   ],
   "source": [
    "# n_estimators\n",
    "\n",
    "selector = VarianceThreshold()\n",
    "selector.fit_transform(train_x)\n",
    "\n",
    "parameters = {'model__n_estimators':range(20,200,5)}\n",
    "\n",
    "gb = GradientBoostingClassifier(learning_rate=0.1, max_depth=5, min_samples_split=5, min_samples_leaf=30, subsample=0.8, \n",
    "                                max_features='sqrt', random_state=10)\n",
    "\n",
    "pipeline  = Pipeline([('feature_sele',selector),('model',gb)])\n",
    "\n",
    "tuning1 = GridSearchCV(pipeline, param_grid = parameters, scoring='accuracy', n_jobs=4, cv=5)\n",
    "\n",
    "tuning1.fit(train_x,train_y)\n",
    "\n",
    "print(\"The best score is {}\".format(tuning1.best_score_))\n",
    "print(\"The best hyper parameter setting is {}\".format(tuning1.best_params_))"
   ]
  },
  {
   "cell_type": "code",
   "execution_count": 11,
   "metadata": {},
   "outputs": [
    {
     "name": "stdout",
     "output_type": "stream",
     "text": [
      "The best score is 0.8588888888888888\n",
      "The best hyper parameter setting is {'model__max_depth': 7, 'model__min_samples_split': 5}\n"
     ]
    }
   ],
   "source": [
    "# Max_depth and min_samples_split\n",
    "\n",
    "selector = VarianceThreshold()\n",
    "selector.fit_transform(train_x)\n",
    "\n",
    "parameters = {'model__max_depth':range(2,8,1),'model__min_samples_split':range(5,50,1)}\n",
    "\n",
    "gb = GradientBoostingClassifier(learning_rate=0.1, n_estimators = 70, min_samples_leaf=30, subsample=0.8,\n",
    "                                                  max_features='sqrt', random_state=10)\n",
    "\n",
    "pipeline  = Pipeline([('feature_sele',selector),('model',gb)])\n",
    "\n",
    "tuning = GridSearchCV(pipeline, param_grid = parameters, scoring='accuracy', n_jobs=4, cv=5)\n",
    "\n",
    "tuning.fit(train_x,train_y)\n",
    "\n",
    "print(\"The best score is {}\".format(tuning.best_score_))\n",
    "print(\"The best hyper parameter setting is {}\".format(tuning.best_params_))"
   ]
  },
  {
   "cell_type": "code",
   "execution_count": 12,
   "metadata": {},
   "outputs": [
    {
     "name": "stdout",
     "output_type": "stream",
     "text": [
      "The best score is 0.8588888888888888\n",
      "The best hyper parameter setting is {'model__min_samples_leaf': 30}\n"
     ]
    }
   ],
   "source": [
    "# min_samples_leaf\n",
    "\n",
    "selector = VarianceThreshold()\n",
    "selector.fit_transform(train_x)\n",
    "\n",
    "parameters = {'model__min_samples_leaf':range(10,71,10)}\n",
    "\n",
    "gb = GradientBoostingClassifier(learning_rate=0.1, n_estimators=70, min_samples_split=5, \n",
    "                                max_depth=7, subsample=0.8, max_features='sqrt', random_state=10)\n",
    "\n",
    "pipeline  = Pipeline([('feature_sele',selector),('model',gb)])\n",
    "\n",
    "tuning = GridSearchCV(pipeline, param_grid = parameters, scoring='accuracy', n_jobs=4, cv=5)\n",
    "\n",
    "tuning.fit(train_x,train_y)\n",
    "\n",
    "print(\"The best score is {}\".format(tuning.best_score_))\n",
    "print(\"The best hyper parameter setting is {}\".format(tuning.best_params_))"
   ]
  },
  {
   "cell_type": "code",
   "execution_count": 13,
   "metadata": {},
   "outputs": [
    {
     "name": "stdout",
     "output_type": "stream",
     "text": [
      "The best score is 0.8588888888888888\n",
      "The best hyper parameter setting is {'model__max_features': 3}\n"
     ]
    }
   ],
   "source": [
    "# max_features\n",
    "\n",
    "selector = VarianceThreshold()\n",
    "selector.fit_transform(train_x)\n",
    "\n",
    "parameters = {'model__max_features':range(2,14,1)}\n",
    "\n",
    "gb = GradientBoostingClassifier(learning_rate=0.1, n_estimators=70, min_samples_split=5, \n",
    "                                max_depth=7, subsample=0.8, min_samples_leaf=30, random_state=10)\n",
    "\n",
    "pipeline  = Pipeline([('feature_sele',selector),('model',gb)])\n",
    "\n",
    "tuning = GridSearchCV(pipeline, param_grid = parameters, scoring='accuracy', n_jobs=4, cv=5)\n",
    "\n",
    "tuning.fit(train_x,train_y)\n",
    "\n",
    "print(\"The best score is {}\".format(tuning.best_score_))\n",
    "print(\"The best hyper parameter setting is {}\".format(tuning.best_params_))"
   ]
  },
  {
   "cell_type": "code",
   "execution_count": 14,
   "metadata": {},
   "outputs": [
    {
     "name": "stdout",
     "output_type": "stream",
     "text": [
      "The best score is 0.8588888888888888\n",
      "The best hyper parameter setting is {'model__subsample': 0.8}\n"
     ]
    }
   ],
   "source": [
    "# subsample\n",
    "\n",
    "selector = VarianceThreshold()\n",
    "selector.fit_transform(train_x)\n",
    "\n",
    "parameters = {'model__subsample':[0.6,0.7,0.75,0.8,0.85,0.9]}\n",
    "\n",
    "gb = GradientBoostingClassifier(learning_rate=0.1, n_estimators=70, min_samples_split=5, max_features=3, \n",
    "                                max_depth=7, min_samples_leaf=30, random_state=10)\n",
    "\n",
    "pipeline  = Pipeline([('feature_sele',selector),('model',gb)])\n",
    "\n",
    "tuning = GridSearchCV(pipeline, param_grid = parameters, scoring='accuracy', n_jobs=4, cv=5)\n",
    "\n",
    "tuning.fit(train_x,train_y)\n",
    "\n",
    "print(\"The best score is {}\".format(tuning.best_score_))\n",
    "print(\"The best hyper parameter setting is {}\".format(tuning.best_params_))"
   ]
  },
  {
   "cell_type": "code",
   "execution_count": 15,
   "metadata": {},
   "outputs": [
    {
     "name": "stdout",
     "output_type": "stream",
     "text": [
      "The best score is 0.8588888888888888\n",
      "The best hyper parameter setting is {'model__learning_rate': 0.1, 'model__n_estimators': 70}\n"
     ]
    }
   ],
   "source": [
    "# Adjustments to learning rate in proportion to n_estimators\n",
    "\n",
    "selector = VarianceThreshold()\n",
    "selector.fit_transform(train_x)\n",
    "\n",
    "parameters = {'model__learning_rate':[0.1, 0.05], 'model__n_estimators':[70, 140] }\n",
    "\n",
    "gb = GradientBoostingClassifier(min_samples_split=5, max_features=3, \n",
    "                                max_depth=7, min_samples_leaf=30, subsample=0.8, random_state=10)\n",
    "\n",
    "pipeline  = Pipeline([('feature_sele',selector),('model',gb)])\n",
    "\n",
    "tuning = GridSearchCV(pipeline, param_grid = parameters, scoring='accuracy', n_jobs=4, cv=5)\n",
    "\n",
    "tuning.fit(train_x,train_y)\n",
    "\n",
    "print(\"The best score is {}\".format(tuning.best_score_))\n",
    "print(\"The best hyper parameter setting is {}\".format(tuning.best_params_))"
   ]
  },
  {
   "cell_type": "markdown",
   "metadata": {},
   "source": [
    "Final GB Model with RFE"
   ]
  },
  {
   "cell_type": "code",
   "execution_count": 16,
   "metadata": {},
   "outputs": [
    {
     "name": "stdout",
     "output_type": "stream",
     "text": [
      "Optimal number of features : 12\n",
      "The number of features used is 12\n",
      "{'accuracy': 0.87, 'recall': 0.7586206896551724, 'precision': 0.7857142857142857}\n"
     ]
    }
   ],
   "source": [
    "# Final Model\n",
    "\n",
    "rf = RandomForestClassifier(random_state=10, class_weight=\"balanced\") \n",
    "rfe = RFECV(estimator=rf, step=1, cv=5, scoring = 'accuracy')\n",
    "rfe.fit_transform(train_x, train_y)\n",
    "\n",
    "gb = GradientBoostingClassifier(learning_rate=0.1, n_estimators=70, min_samples_split=5, max_features=3, \n",
    "                                max_depth=7, min_samples_leaf=30, subsample=0.8, random_state=10)\n",
    "\n",
    "pipeline = Pipeline([('feature_sele',rfe),('model',gb)])\n",
    "                                     \n",
    "pipeline.fit(train_x, train_y)\n",
    "\n",
    "y_pred = pipeline.predict(test_x)\n",
    "\n",
    "print(\"Optimal number of features : %d\" % rfe.n_features_)\n",
    "print(\"The number of features used is {}\".format(gb.n_features_))\n",
    "print(functions.evaluate(test_y, y_pred))"
   ]
  },
  {
   "cell_type": "code",
   "execution_count": 18,
   "metadata": {},
   "outputs": [],
   "source": [
    "# save the model to disk\n",
    "filename = \"model.pkl\"  \n",
    "\n",
    "with open(filename, 'wb') as file:  \n",
    "    pickle.dump(pipeline, file)"
   ]
  }
 ],
 "metadata": {
  "kernelspec": {
   "display_name": "Python 3",
   "language": "python",
   "name": "python3"
  },
  "language_info": {
   "codemirror_mode": {
    "name": "ipython",
    "version": 3
   },
   "file_extension": ".py",
   "mimetype": "text/x-python",
   "name": "python",
   "nbconvert_exporter": "python",
   "pygments_lexer": "ipython3",
   "version": "3.7.6"
  }
 },
 "nbformat": 4,
 "nbformat_minor": 4
}
